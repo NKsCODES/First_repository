{
 "cells": [
  {
   "cell_type": "markdown",
   "id": "c811ab6d-eb34-4d74-8f48-c19ce76302c9",
   "metadata": {},
   "source": [
    "# Data Science Tools and Ecosystem "
   ]
  },
  {
   "cell_type": "markdown",
   "id": "b0281e12-5821-4269-9959-5b7c00758fd6",
   "metadata": {},
   "source": [
    "In this notebook, Data Science Tools and Ecosystem are summarized."
   ]
  },
  {
   "cell_type": "markdown",
   "id": "91689d84-9670-4f53-bc16-febd242cf436",
   "metadata": {},
   "source": [
    "Some of the popular languages that Data Scientists use are:\n",
    "1.Python 2.R 3.SQL 4.java 5. Scala"
   ]
  },
  {
   "cell_type": "markdown",
   "id": "aacc81a3-8903-4492-bfd8-6e523c228334",
   "metadata": {},
   "source": [
    "Ordered list of data science libraries\n",
    "| Data Science Libraries |\n",
    "| ------------------ |\n",
    "|     Pandas         |\n",
    "|     Numpy          |\n",
    "|     seaborn        |"
   ]
  },
  {
   "cell_type": "markdown",
   "id": "d9bf1aee-1f5c-491e-aad6-325ccebf7a8d",
   "metadata": {},
   "source": [
    "ordered list"
   ]
  },
  {
   "cell_type": "markdown",
   "id": "061e75b6-194d-45b2-b1a2-e7a7ee977636",
   "metadata": {},
   "source": [
    "| Data Science Tools |\n",
    "| ------------------ |\n",
    "| Jupyter Notebook   |\n",
    "| RStudio            |\n",
    "| Spyder             |"
   ]
  },
  {
   "cell_type": "markdown",
   "id": "dc01e5f2-aaea-4f49-be45-f744ed7831b5",
   "metadata": {},
   "source": [
    "### Below are a few examples of evaluating arithmetic expressions in Python."
   ]
  },
  {
   "cell_type": "code",
   "execution_count": 2,
   "id": "8e6755c6-96a9-41fc-bfec-18a248d2f719",
   "metadata": {},
   "outputs": [
    {
     "data": {
      "text/plain": [
       "17"
      ]
     },
     "execution_count": 2,
     "metadata": {},
     "output_type": "execute_result"
    }
   ],
   "source": [
    "#This a simple arithmetic expression to mutiply then add integers\n",
    "(3*4)+5"
   ]
  },
  {
   "cell_type": "code",
   "execution_count": 3,
   "id": "f9a51789-a3ae-41c8-b88e-d407a1ae552a",
   "metadata": {},
   "outputs": [
    {
     "data": {
      "text/plain": [
       "3.3333333333333335"
      ]
     },
     "execution_count": 3,
     "metadata": {},
     "output_type": "execute_result"
    }
   ],
   "source": [
    "#This will convert 200 minutes to hours by diving by 60\n",
    "200/60"
   ]
  },
  {
   "cell_type": "markdown",
   "id": "1bdd8da8-a0e9-42cf-b291-8c95a99d26ff",
   "metadata": {},
   "source": [
    "**Objectives:**\n",
    "\n",
    "- List popular languages for Data Science\n",
    "- Introduce the basics of version control with Git and GitHub\n",
    "- Demonstrate how to use Jupyter Notebooks for Data Science tasks\n",
    "- Provide an overview of data visualization with ggplot2 library in R\n",
    "- Show how to use machine learning in R with caret package"
   ]
  },
  {
   "cell_type": "markdown",
   "id": "7df094ef-a2e1-4683-9bd0-6cc10f787dff",
   "metadata": {},
   "source": [
    "## Author\n",
    "Niraj Koli"
   ]
  },
  {
   "cell_type": "code",
   "execution_count": null,
   "id": "a38d6e12-d02e-4694-ba50-7628e63bd6c8",
   "metadata": {},
   "outputs": [],
   "source": []
  }
 ],
 "metadata": {
  "kernelspec": {
   "display_name": "Python",
   "language": "python",
   "name": "conda-env-python-py"
  },
  "language_info": {
   "codemirror_mode": {
    "name": "ipython",
    "version": 3
   },
   "file_extension": ".py",
   "mimetype": "text/x-python",
   "name": "python",
   "nbconvert_exporter": "python",
   "pygments_lexer": "ipython3",
   "version": "3.7.12"
  }
 },
 "nbformat": 4,
 "nbformat_minor": 5
}
